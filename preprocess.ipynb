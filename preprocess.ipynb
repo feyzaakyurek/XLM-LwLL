{
 "cells": [
  {
   "cell_type": "code",
   "execution_count": 1,
   "metadata": {},
   "outputs": [],
   "source": [
    "import fastBPE\n",
    "import os\n",
    "import preprocessAlt\n",
    "import importlib\n",
    "import pandas as pd"
   ]
  },
  {
   "cell_type": "markdown",
   "metadata": {},
   "source": [
    "# Kazakh and English"
   ]
  },
  {
   "cell_type": "code",
   "execution_count": 5,
   "metadata": {},
   "outputs": [],
   "source": [
    "data_path = \"data/processed/en-kk/en-kk-10M/en-kk/\"\n",
    "lg1 = \"en\"  # alphabetical ordering\n",
    "lg2 = \"kk\"\n",
    "split = \"train\""
   ]
  },
  {
   "cell_type": "code",
   "execution_count": 6,
   "metadata": {},
   "outputs": [],
   "source": [
    "codes_path = os.path.join(data_path, \"codes\")\n",
    "vocab_path = os.path.join(data_path, \"vocab.{}-{}\".format(lg1, lg2))"
   ]
  },
  {
   "cell_type": "code",
   "execution_count": 7,
   "metadata": {},
   "outputs": [],
   "source": [
    "data = pd.read_csv(\"data/new_kazakh_google_dict_sentences_0.2.csv\")\n",
    "data1 = comparable[\"source\"]\n",
    "data2 = comparable[\"target\"]"
   ]
  },
  {
   "cell_type": "code",
   "execution_count": 8,
   "metadata": {},
   "outputs": [],
   "source": [
    "bpe = fastBPE.fastBPE(codes_path, vocab_path)\n",
    "bped_data1 = bpe.apply(data1)\n",
    "bped_data2 = bpe.apply(data2)"
   ]
  },
  {
   "cell_type": "code",
   "execution_count": 21,
   "metadata": {},
   "outputs": [],
   "source": [
    "bped_data1_pth = os.path.join(data_path, \"{0}.{1}-{2}.{1}\".format(split, lg1, lg2))\n",
    "bped_data2_pth = os.path.join(data_path, \"{0}.{1}-{2}.{2}\".format(split, lg1, lg2))\n",
    "\n",
    "# Save train.lg1-lg2.X files\n",
    "with open(bped_data1_pth, 'w') as f:\n",
    "    for item in bped_data1:\n",
    "        f.write(\"%s\\n\" % item)\n",
    "with open(bped_data2_pth, 'w') as f:\n",
    "    for item in bped_data2:\n",
    "        f.write(\"%s\\n\" % item)"
   ]
  },
  {
   "cell_type": "code",
   "execution_count": 23,
   "metadata": {},
   "outputs": [
    {
     "name": "stderr",
     "output_type": "stream",
     "text": [
      "INFO - 10/16/20 23:21:57 - 0:00:00 - Read 68932 words from the vocabulary file.\n",
      "\n",
      "INFO - 10/16/20 23:21:58 - 0:00:01 - 1044622 words (68932 unique) in 51001 sentences.\n",
      "INFO - 10/16/20 23:21:58 - 0:00:01 - 38442 unknown words (125 unique), covering 3.68% of the data.\n"
     ]
    },
    {
     "name": "stdout",
     "output_type": "stream",
     "text": [
      "Saving the data to data/processed/en-kk/en-kk-10M/en-kk/train.en-kk.en.pth ...\n"
     ]
    },
    {
     "name": "stderr",
     "output_type": "stream",
     "text": [
      "INFO - 10/16/20 23:21:58 - 0:00:00 - Read 68932 words from the vocabulary file.\n",
      "\n",
      "INFO - 10/16/20 23:21:59 - 0:00:01 - 1159260 words (68932 unique) in 51001 sentences.\n",
      "INFO - 10/16/20 23:21:59 - 0:00:01 - 26098 unknown words (92 unique), covering 2.25% of the data.\n"
     ]
    },
    {
     "name": "stdout",
     "output_type": "stream",
     "text": [
      "Saving the data to data/processed/en-kk/en-kk-10M/en-kk/train.en-kk.kk.pth ...\n"
     ]
    }
   ],
   "source": [
    "# Create binarized files (pth)\n",
    "preprocessAlt.binarize(vocab_path, bped_data1_pth)\n",
    "preprocessAlt.binarize(vocab_path, bped_data2_pth)"
   ]
  },
  {
   "cell_type": "code",
   "execution_count": null,
   "metadata": {},
   "outputs": [],
   "source": []
  }
 ],
 "metadata": {
  "kernelspec": {
   "display_name": "Python 3",
   "language": "python",
   "name": "python3"
  },
  "language_info": {
   "codemirror_mode": {
    "name": "ipython",
    "version": 3
   },
   "file_extension": ".py",
   "mimetype": "text/x-python",
   "name": "python",
   "nbconvert_exporter": "python",
   "pygments_lexer": "ipython3",
   "version": "3.7.7"
  }
 },
 "nbformat": 4,
 "nbformat_minor": 4
}
