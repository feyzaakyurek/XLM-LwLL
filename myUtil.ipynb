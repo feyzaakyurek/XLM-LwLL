{
 "cells": [
  {
   "cell_type": "code",
   "execution_count": 2,
   "metadata": {},
   "outputs": [],
   "source": [
    "import fastBPE\n",
    "import os\n",
    "import preprocessAlt\n",
    "import importlib\n",
    "import pandas as pd"
   ]
  },
  {
   "cell_type": "markdown",
   "metadata": {},
   "source": [
    "# Kazakh and English"
   ]
  },
  {
   "cell_type": "code",
   "execution_count": 3,
   "metadata": {},
   "outputs": [],
   "source": [
    "data_path = \"data/processed/en-kk/processed/en-kk-10M/en-kk\"\n",
    "lg1 = \"en\"  # alphabetical ordering\n",
    "lg2 = \"kk\"\n",
    "split = \"train\""
   ]
  },
  {
   "cell_type": "code",
   "execution_count": 4,
   "metadata": {},
   "outputs": [],
   "source": [
    "codes_path = os.path.join(data_path, \"codes\")\n",
    "vocab_path = os.path.join(data_path, \"vocab.{}-{}\".format(lg1, lg2))"
   ]
  },
  {
   "cell_type": "code",
   "execution_count": 5,
   "metadata": {},
   "outputs": [
    {
     "data": {
      "text/html": [
       "<div>\n",
       "<style scoped>\n",
       "    .dataframe tbody tr th:only-of-type {\n",
       "        vertical-align: middle;\n",
       "    }\n",
       "\n",
       "    .dataframe tbody tr th {\n",
       "        vertical-align: top;\n",
       "    }\n",
       "\n",
       "    .dataframe thead th {\n",
       "        text-align: right;\n",
       "    }\n",
       "</style>\n",
       "<table border=\"1\" class=\"dataframe\">\n",
       "  <thead>\n",
       "    <tr style=\"text-align: right;\">\n",
       "      <th></th>\n",
       "      <th>source</th>\n",
       "      <th>target</th>\n",
       "    </tr>\n",
       "  </thead>\n",
       "  <tbody>\n",
       "    <tr>\n",
       "      <th>0</th>\n",
       "      <td>Абдуррахман ибн Ауф, () көрнекті сахабалардың ...</td>\n",
       "      <td>'Abd al-Rahman ibn 'Awf () (c.581 CE – c.654 C...</td>\n",
       "    </tr>\n",
       "    <tr>\n",
       "      <th>1</th>\n",
       "      <td>Абдуррахман ибн Ауф басқа аты Абдел-Рахман ибн...</td>\n",
       "      <td>His name has also been transliterated as Abdel...</td>\n",
       "    </tr>\n",
       "    <tr>\n",
       "      <th>2</th>\n",
       "      <td>халифа Әбу Бәкір (Аллаһның оған игілігі мен сә...</td>\n",
       "      <td>In August 634 the dying Caliph Abu Bakr called...</td>\n",
       "    </tr>\n",
       "    <tr>\n",
       "      <th>3</th>\n",
       "      <td>Жаннатқа қабылданған он адамның бірі.</td>\n",
       "      <td>And so he did.</td>\n",
       "    </tr>\n",
       "    <tr>\n",
       "      <th>4</th>\n",
       "      <td>\"\" () — әлемге әйгілі неаполитандық ән, 1898 ж...</td>\n",
       "      <td>\"\" () is a globally known Neapolitan song writ...</td>\n",
       "    </tr>\n",
       "  </tbody>\n",
       "</table>\n",
       "</div>"
      ],
      "text/plain": [
       "                                              source  \\\n",
       "0  Абдуррахман ибн Ауф, () көрнекті сахабалардың ...   \n",
       "1  Абдуррахман ибн Ауф басқа аты Абдел-Рахман ибн...   \n",
       "2  халифа Әбу Бәкір (Аллаһның оған игілігі мен сә...   \n",
       "3              Жаннатқа қабылданған он адамның бірі.   \n",
       "4  \"\" () — әлемге әйгілі неаполитандық ән, 1898 ж...   \n",
       "\n",
       "                                              target  \n",
       "0  'Abd al-Rahman ibn 'Awf () (c.581 CE – c.654 C...  \n",
       "1  His name has also been transliterated as Abdel...  \n",
       "2  In August 634 the dying Caliph Abu Bakr called...  \n",
       "3                                     And so he did.  \n",
       "4  \"\" () is a globally known Neapolitan song writ...  "
      ]
     },
     "execution_count": 5,
     "metadata": {},
     "output_type": "execute_result"
    }
   ],
   "source": [
    "data = pd.read_csv(\"data/new_kazakh_google_dict_sentences_0.2.csv\")\n",
    "data.head()"
   ]
  },
  {
   "cell_type": "code",
   "execution_count": 6,
   "metadata": {},
   "outputs": [],
   "source": [
    "data1 = data[\"target\"]\n",
    "data2 = data[\"source\"]"
   ]
  },
  {
   "cell_type": "code",
   "execution_count": null,
   "metadata": {},
   "outputs": [],
   "source": [
    "bpe = fastBPE.fastBPE(codes_path, vocab_path)"
   ]
  },
  {
   "cell_type": "code",
   "execution_count": null,
   "metadata": {},
   "outputs": [],
   "source": [
    "bped_data1 = bpe.apply(data1)"
   ]
  },
  {
   "cell_type": "code",
   "execution_count": null,
   "metadata": {},
   "outputs": [],
   "source": [
    "bped_data2 = bpe.apply(data2)"
   ]
  },
  {
   "cell_type": "code",
   "execution_count": 33,
   "metadata": {},
   "outputs": [
    {
     "name": "stdout",
     "output_type": "stream",
     "text": [
      "data/processed/en-so/processed/en-so/train.en-so.en\n",
      "data/processed/en-so/processed/en-so/train.en-so.so\n"
     ]
    }
   ],
   "source": [
    "bped_data1_pth = os.path.join(data_path, \"{0}.{1}-{2}.{1}\".format(split, lg1, lg2))\n",
    "print(bped_data1_pth)\n",
    "bped_data2_pth = os.path.join(data_path, \"{0}.{1}-{2}.{2}\".format(split, lg1, lg2))\n",
    "print(bped_data2_pth)\n",
    "\n",
    "# Save train.lg1-lg2.X files\n",
    "with open(bped_data1_pth, 'w') as f1:\n",
    "    for item in bped_data1:\n",
    "        f1.write(\"%s\\n\" % item)\n",
    "        \n",
    "with open(bped_data2_pth, 'w') as f2:\n",
    "    for item in bped_data2:\n",
    "        f2.write(\"%s\\n\" % item)"
   ]
  },
  {
   "cell_type": "code",
   "execution_count": 34,
   "metadata": {},
   "outputs": [
    {
     "name": "stderr",
     "output_type": "stream",
     "text": [
      "INFO - 10/21/20 23:30:13 - 0:00:00 - Read 63191 words from the vocabulary file.\n",
      "\n",
      "INFO - 10/21/20 23:30:13 - 0:00:00 - 286002 words (63191 unique) in 9927 sentences.\n",
      "INFO - 10/21/20 23:30:13 - 0:00:00 - 8139 unknown words (122 unique), covering 2.85% of the data.\n"
     ]
    },
    {
     "name": "stdout",
     "output_type": "stream",
     "text": [
      "Saving the data to data/processed/en-so/processed/en-so/train.en-so.en.pth ...\n"
     ]
    },
    {
     "name": "stderr",
     "output_type": "stream",
     "text": [
      "INFO - 10/21/20 23:30:13 - 0:00:00 - Read 63191 words from the vocabulary file.\n",
      "\n",
      "INFO - 10/21/20 23:30:13 - 0:00:00 - 307001 words (63191 unique) in 9927 sentences.\n",
      "INFO - 10/21/20 23:30:13 - 0:00:00 - 8563 unknown words (136 unique), covering 2.79% of the data.\n"
     ]
    },
    {
     "name": "stdout",
     "output_type": "stream",
     "text": [
      "Saving the data to data/processed/en-so/processed/en-so/train.en-so.so.pth ...\n"
     ]
    }
   ],
   "source": [
    "# Create binarized files (pth)\n",
    "preprocessAlt.binarize(vocab_path, bped_data1_pth)\n",
    "preprocessAlt.binarize(vocab_path, bped_data2_pth)"
   ]
  },
  {
   "cell_type": "markdown",
   "metadata": {},
   "source": [
    "# Arabic and English"
   ]
  },
  {
   "cell_type": "code",
   "execution_count": null,
   "metadata": {},
   "outputs": [],
   "source": [
    "importlib.reload(preprocessAlt)"
   ]
  },
  {
   "cell_type": "code",
   "execution_count": 5,
   "metadata": {},
   "outputs": [],
   "source": [
    "codes_path = os.path.join(\"data/processed/ar-en/codes\")\n",
    "vocab_path = os.path.join(\"data/processed/ar-en/vocab.ar-en\")\n",
    "ar_path = os.path.join(\"data/processed/ar-en-adapt\",\"TED2013.ar-en.sample.ar\")\n",
    "en_path = os.path.join(\"data/processed/ar-en-adapt\",\"TED2013.ar-en.sample.en\")\n",
    "\n",
    "with open(ar_path) as f:\n",
    "    ar = f.readlines()\n",
    "with open(en_path) as f:\n",
    "    en = f.readlines()\n",
    "\n",
    "bpe = fastBPE.fastBPE(codes_path, vocab_path)\n",
    "bped_ar = bpe.apply(ar)\n",
    "bped_en = bpe.apply(en)\n",
    "\n",
    "bped_path_test_ar = os.path.join(\"data/processed/ar-en-adapt\",\"test.ar-en.ar\")\n",
    "bped_path_test_en = os.path.join(\"data/processed/ar-en-adapt\",\"test.ar-en.en\")\n",
    "\n"
   ]
  },
  {
   "cell_type": "code",
   "execution_count": 6,
   "metadata": {},
   "outputs": [],
   "source": [
    "# Save\n",
    "with open(bped_path_test_ar, 'w') as f:\n",
    "    for item in bped_ar:\n",
    "        f.write(\"%s\" % item)\n",
    "with open(bped_path_test_en, 'w') as f:\n",
    "    for item in bped_en:\n",
    "        f.write(\"%s\" % item)\n",
    "\n"
   ]
  },
  {
   "cell_type": "code",
   "execution_count": 7,
   "metadata": {},
   "outputs": [
    {
     "name": "stderr",
     "output_type": "stream",
     "text": [
      "INFO - 09/04/20 16:26:36 - 0:00:00 - Read 61268 words from the vocabulary file.\n",
      "\n",
      "INFO - 09/04/20 16:26:37 - 0:00:00 - 23113 words (61268 unique) in 1000 sentences.\n",
      "INFO - 09/04/20 16:26:37 - 0:00:00 - 341 unknown words (10 unique), covering 1.48% of the data.\n",
      "INFO - 09/04/20 16:26:37 - 0:00:00 - \"@@: 143\n",
      "INFO - 09/04/20 16:26:37 - 0:00:00 - ؟@@: 56\n",
      "INFO - 09/04/20 16:26:37 - 0:00:00 - /@@: 54\n",
      "INFO - 09/04/20 16:26:37 - 0:00:00 - _@@: 49\n",
      "INFO - 09/04/20 16:26:37 - 0:00:00 - ،@@: 13\n",
      "INFO - 09/04/20 16:26:37 - 0:00:00 - :@@: 10\n",
      "INFO - 09/04/20 16:26:37 - 0:00:00 - !@@: 8\n",
      "INFO - 09/04/20 16:26:37 - 0:00:00 - %@@: 4\n",
      "INFO - 09/04/20 16:26:37 - 0:00:00 - [@@: 3\n",
      "INFO - 09/04/20 16:26:37 - 0:00:00 - ]@@: 1\n"
     ]
    },
    {
     "name": "stdout",
     "output_type": "stream",
     "text": [
      "Saving the data to data/processed/ar-en-adapt/test.ar-en.ar.pth ...\n"
     ]
    },
    {
     "name": "stderr",
     "output_type": "stream",
     "text": [
      "INFO - 09/04/20 16:26:37 - 0:00:00 - Read 61268 words from the vocabulary file.\n",
      "\n",
      "INFO - 09/04/20 16:26:37 - 0:00:00 - 25089 words (61268 unique) in 1000 sentences.\n",
      "INFO - 09/04/20 16:26:37 - 0:00:00 - 238 unknown words (9 unique), covering 0.95% of the data.\n",
      "INFO - 09/04/20 16:26:37 - 0:00:00 - \"@@: 72\n",
      "INFO - 09/04/20 16:26:37 - 0:00:00 - ?@@: 64\n",
      "INFO - 09/04/20 16:26:37 - 0:00:00 - _@@: 49\n",
      "INFO - 09/04/20 16:26:37 - 0:00:00 - /@@: 36\n",
      "INFO - 09/04/20 16:26:37 - 0:00:00 - :@@: 9\n",
      "INFO - 09/04/20 16:26:37 - 0:00:00 - !@@: 4\n",
      "INFO - 09/04/20 16:26:37 - 0:00:00 - [@@: 2\n",
      "INFO - 09/04/20 16:26:37 - 0:00:00 - ]@@: 1\n",
      "INFO - 09/04/20 16:26:37 - 0:00:00 - ’@@: 1\n"
     ]
    },
    {
     "name": "stdout",
     "output_type": "stream",
     "text": [
      "Saving the data to data/processed/ar-en-adapt/test.ar-en.en.pth ...\n"
     ]
    }
   ],
   "source": [
    "# Create train.ar-en.ar.pth\n",
    "preprocessAlt.binarize(vocab_path, bped_path_test_ar)\n",
    "preprocessAlt.binarize(vocab_path, bped_path_test_en)"
   ]
  },
  {
   "cell_type": "code",
   "execution_count": 11,
   "metadata": {},
   "outputs": [],
   "source": [
    "from googleDriveFileDownloader import googleDriveFileDownloader\n",
    "a = googleDriveFileDownloader()"
   ]
  },
  {
   "cell_type": "code",
   "execution_count": 14,
   "metadata": {},
   "outputs": [
    {
     "name": "stdout",
     "output_type": "stream",
     "text": [
      "Download is starting\n",
      "processed.en-so.comparable+wmt19.som.zip\n"
     ]
    },
    {
     "data": {
      "text/plain": [
       "0"
      ]
     },
     "execution_count": 14,
     "metadata": {},
     "output_type": "execute_result"
    }
   ],
   "source": [
    "a.downloadFile(\"https://drive.google.com/uc?id=1AG6f7XN-DfLWCXVCUCGuYRl__pTSYfur&export=download\")"
   ]
  },
  {
   "cell_type": "code",
   "execution_count": 15,
   "metadata": {},
   "outputs": [
    {
     "name": "stdout",
     "output_type": "stream",
     "text": [
      "Download is starting\n",
      "processed.en-kk.comparable+wmt19.zip\n"
     ]
    },
    {
     "data": {
      "text/plain": [
       "0"
      ]
     },
     "execution_count": 15,
     "metadata": {},
     "output_type": "execute_result"
    }
   ],
   "source": [
    "\n",
    "a.downloadFile(\"https://drive.google.com/uc?id=1lrLwnPYIoFUNuMBohQj4OjYocySuSp8g&export=download\")"
   ]
  },
  {
   "cell_type": "code",
   "execution_count": null,
   "metadata": {},
   "outputs": [],
   "source": []
  }
 ],
 "metadata": {
  "kernelspec": {
   "display_name": "Python 3",
   "language": "python",
   "name": "python3"
  },
  "language_info": {
   "codemirror_mode": {
    "name": "ipython",
    "version": 3
   },
   "file_extension": ".py",
   "mimetype": "text/x-python",
   "name": "python",
   "nbconvert_exporter": "python",
   "pygments_lexer": "ipython3",
   "version": "3.7.7"
  }
 },
 "nbformat": 4,
 "nbformat_minor": 4
}
